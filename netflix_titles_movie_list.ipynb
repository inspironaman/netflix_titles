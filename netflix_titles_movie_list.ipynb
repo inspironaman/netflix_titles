{
 "cells": [
  {
   "cell_type": "code",
   "execution_count": null,
   "metadata": {},
   "outputs": [],
   "source": [
    "import csv\n",
    "import sys\n",
    "\n",
    "def Netflix_Movie_Type():\n",
    "    movie_names=[]\n",
    "        \n",
    "    try:\n",
    "        csv_path=input(\"enter the path of csv file:\")\n",
    "        netflix_movie=list(csv.DictReader(open(csv_path,encoding=\"utf-8\")))\n",
    "    except Exception as error:\n",
    "        print(\"error while importing csv file\")\n",
    "        sys.exit()\n",
    "    \n",
    "    \n",
    "    movie_type=input(\"enter the type of movie you are searching for(Kids' TV|Comedies|ction & Adventure| Thrillers|Children & Family Movies,Classic & Cult TV| TV Comedies|Docuseries|Movies|Documentaries):\")\n",
    "    for i in range(len(netflix_movie)):\n",
    "            if netflix_movie[i]['listed_in']==movie_type:\n",
    "                movie_names.append(netflix_movie[i]['title'])\n",
    "    if len(movie_names)==0:\n",
    "        \n",
    "        print(\"movie_type does not exist\")\n",
    "        \n",
    "    else:\n",
    "        \n",
    "        print(movie_names)\n",
    "                \n",
    "Netflix_Movie_Type()"
   ]
  }
 ],
 "metadata": {
  "kernelspec": {
   "display_name": "Python 3",
   "language": "python",
   "name": "python3"
  },
  "language_info": {
   "codemirror_mode": {
    "name": "ipython",
    "version": 3
   },
   "file_extension": ".py",
   "mimetype": "text/x-python",
   "name": "python",
   "nbconvert_exporter": "python",
   "pygments_lexer": "ipython3",
   "version": "3.8.5"
  }
 },
 "nbformat": 4,
 "nbformat_minor": 4
}
